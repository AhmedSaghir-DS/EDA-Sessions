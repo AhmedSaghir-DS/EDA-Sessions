{
 "cells": [
  {
   "cell_type": "markdown",
   "id": "e59ecc8c",
   "metadata": {},
   "source": [
    "## Pandas Short In-Class Activity"
   ]
  },
  {
   "cell_type": "code",
   "execution_count": 45,
   "id": "2f2ee4ff",
   "metadata": {},
   "outputs": [],
   "source": [
    "#import pandas and numpy\n",
    "\n",
    "import pandas as pd\n",
    "import numpy as np"
   ]
  },
  {
   "cell_type": "markdown",
   "id": "eca752b6",
   "metadata": {},
   "source": [
    "##### Pandas Series\n",
    "\n",
    "Task 1: Create a Pandas Series from the following list: [100, 200, 300, 400, 500]. Assign it to a variable named my_series and print it."
   ]
  },
  {
   "cell_type": "code",
   "execution_count": 46,
   "id": "a4173994",
   "metadata": {},
   "outputs": [
    {
     "data": {
      "text/plain": [
       "0    100\n",
       "1    200\n",
       "2    300\n",
       "3    400\n",
       "4    500\n",
       "dtype: int64"
      ]
     },
     "execution_count": 46,
     "metadata": {},
     "output_type": "execute_result"
    }
   ],
   "source": [
    "my_series = pd.Series([100, 200, 300, 400, 500])\n",
    "my_series"
   ]
  },
  {
   "cell_type": "markdown",
   "id": "33cdf8a0",
   "metadata": {},
   "source": [
    "Task 2: Print the series"
   ]
  },
  {
   "cell_type": "code",
   "execution_count": 47,
   "id": "3bbd9bd2",
   "metadata": {},
   "outputs": [
    {
     "name": "stdout",
     "output_type": "stream",
     "text": [
      "0    100\n",
      "1    200\n",
      "2    300\n",
      "3    400\n",
      "4    500\n",
      "dtype: int64\n"
     ]
    }
   ],
   "source": [
    "print(my_series)"
   ]
  },
  {
   "cell_type": "markdown",
   "id": "244fa2d2",
   "metadata": {},
   "source": [
    "Task 3: Give your series a name and print it"
   ]
  },
  {
   "cell_type": "code",
   "execution_count": 48,
   "id": "bc303994",
   "metadata": {},
   "outputs": [
    {
     "data": {
      "text/plain": [
       "0    100\n",
       "1    200\n",
       "2    300\n",
       "3    400\n",
       "4    500\n",
       "Name: mySeries, dtype: int64"
      ]
     },
     "execution_count": 48,
     "metadata": {},
     "output_type": "execute_result"
    }
   ],
   "source": [
    "my_series.name = 'mySeries'\n",
    "my_series"
   ]
  },
  {
   "cell_type": "markdown",
   "id": "2244f91c",
   "metadata": {},
   "source": [
    "Task 4: Check your data structure type (hint:type)"
   ]
  },
  {
   "cell_type": "code",
   "execution_count": 49,
   "id": "6ad4e088",
   "metadata": {},
   "outputs": [
    {
     "name": "stdout",
     "output_type": "stream",
     "text": [
      "<class 'pandas.core.series.Series'>\n"
     ]
    },
    {
     "data": {
      "text/plain": [
       "dtype('int64')"
      ]
     },
     "execution_count": 49,
     "metadata": {},
     "output_type": "execute_result"
    }
   ],
   "source": [
    "print(type(my_series)) #type of the series\n",
    "my_series.dtype #type in the series"
   ]
  },
  {
   "cell_type": "markdown",
   "id": "e168aae2",
   "metadata": {},
   "source": [
    "Task 5: Print values of series only and check values structure type "
   ]
  },
  {
   "cell_type": "code",
   "execution_count": 50,
   "id": "632cd463",
   "metadata": {},
   "outputs": [
    {
     "data": {
      "text/plain": [
       "array([100, 200, 300, 400, 500], dtype=int64)"
      ]
     },
     "execution_count": 50,
     "metadata": {},
     "output_type": "execute_result"
    }
   ],
   "source": [
    "my_series.values"
   ]
  },
  {
   "cell_type": "markdown",
   "id": "d3955f90",
   "metadata": {},
   "source": [
    "Task 6: Print values of 4 and 6 index of your series"
   ]
  },
  {
   "cell_type": "code",
   "execution_count": 51,
   "id": "5bfe6711",
   "metadata": {},
   "outputs": [
    {
     "data": {
      "text/plain": [
       "500"
      ]
     },
     "execution_count": 51,
     "metadata": {},
     "output_type": "execute_result"
    }
   ],
   "source": [
    "my_series[4]\n",
    "#my_series[6] we dont have any value in 6th index\n"
   ]
  },
  {
   "cell_type": "markdown",
   "id": "7fa9172a",
   "metadata": {},
   "source": [
    "Task 7: Give your series custom index and print it"
   ]
  },
  {
   "cell_type": "code",
   "execution_count": 52,
   "id": "622ef4c4",
   "metadata": {},
   "outputs": [
    {
     "data": {
      "text/plain": [
       "1    100\n",
       "2    200\n",
       "3    300\n",
       "4    400\n",
       "5    500\n",
       "Name: mySeries, dtype: int64"
      ]
     },
     "execution_count": 52,
     "metadata": {},
     "output_type": "execute_result"
    }
   ],
   "source": [
    "my_series.index = [\n",
    "    1,2,3,4,5\n",
    "]\n",
    "my_series"
   ]
  },
  {
   "cell_type": "markdown",
   "id": "d9beb461",
   "metadata": {},
   "source": [
    "Task 8: Create a series which should contain index, values, and name (hint: use dictionary)"
   ]
  },
  {
   "cell_type": "code",
   "execution_count": 53,
   "id": "91c9b82b",
   "metadata": {},
   "outputs": [
    {
     "data": {
      "text/plain": [
       "1    100\n",
       "2    200\n",
       "3    300\n",
       "4    400\n",
       "5    500\n",
       "Name: My Series, dtype: int64"
      ]
     },
     "execution_count": 53,
     "metadata": {},
     "output_type": "execute_result"
    }
   ],
   "source": [
    "my_series=pd.Series({\n",
    "    1: 100,\n",
    "    2: 200,\n",
    "    3: 300,\n",
    "    4: 400,\n",
    "    5: 500\n",
    "}, name='My Series')\n",
    "my_series"
   ]
  },
  {
   "cell_type": "markdown",
   "id": "6fd581a0",
   "metadata": {},
   "source": [
    "Task 9: Print values from 0 to 3 "
   ]
  },
  {
   "cell_type": "code",
   "execution_count": 54,
   "id": "d85eff82",
   "metadata": {},
   "outputs": [
    {
     "data": {
      "text/plain": [
       "1    100\n",
       "2    200\n",
       "3    300\n",
       "Name: My Series, dtype: int64"
      ]
     },
     "execution_count": 54,
     "metadata": {},
     "output_type": "execute_result"
    }
   ],
   "source": [
    "my_series.iloc[0:3]"
   ]
  },
  {
   "cell_type": "markdown",
   "id": "5a83350c",
   "metadata": {},
   "source": [
    "Task 10: Print value of your index 3 of dictionary"
   ]
  },
  {
   "cell_type": "code",
   "execution_count": 55,
   "id": "77aaf1d8",
   "metadata": {},
   "outputs": [
    {
     "data": {
      "text/plain": [
       "300"
      ]
     },
     "execution_count": 55,
     "metadata": {},
     "output_type": "execute_result"
    }
   ],
   "source": [
    "my_series.loc[3]"
   ]
  },
  {
   "cell_type": "markdown",
   "id": "e8601fe2",
   "metadata": {},
   "source": [
    "Task 11: Print values from 1 to 4 using iloc"
   ]
  },
  {
   "cell_type": "code",
   "execution_count": 56,
   "id": "0cc0ebcb",
   "metadata": {},
   "outputs": [
    {
     "data": {
      "text/plain": [
       "2    200\n",
       "3    300\n",
       "4    400\n",
       "Name: My Series, dtype: int64"
      ]
     },
     "execution_count": 56,
     "metadata": {},
     "output_type": "execute_result"
    }
   ],
   "source": [
    "my_series.iloc[1:4]"
   ]
  },
  {
   "cell_type": "markdown",
   "id": "ba6540ee",
   "metadata": {},
   "source": [
    "Task 12: Take mean and std of your series"
   ]
  },
  {
   "cell_type": "code",
   "execution_count": 57,
   "id": "88b156f6",
   "metadata": {},
   "outputs": [
    {
     "name": "stdout",
     "output_type": "stream",
     "text": [
      "The mean is 300.0 and Standard Deviation is 158.11388300841898 \n"
     ]
    }
   ],
   "source": [
    "_mean = my_series.mean()\n",
    "_std = my_series.std()\n",
    "\n",
    "print (f'The mean is {_mean} and Standard Deviation is {_std} ')\n"
   ]
  },
  {
   "cell_type": "markdown",
   "id": "53017f5b",
   "metadata": {},
   "source": [
    "Task 13: Multiple your series with 2 "
   ]
  },
  {
   "cell_type": "code",
   "execution_count": 58,
   "id": "96022f97",
   "metadata": {},
   "outputs": [
    {
     "data": {
      "text/plain": [
       "1     200\n",
       "2     400\n",
       "3     600\n",
       "4     800\n",
       "5    1000\n",
       "Name: My Series, dtype: int64"
      ]
     },
     "execution_count": 58,
     "metadata": {},
     "output_type": "execute_result"
    }
   ],
   "source": [
    "my_series * 2"
   ]
  },
  {
   "cell_type": "markdown",
   "id": "44ab54e5",
   "metadata": {},
   "source": [
    "Task 14: Update value of index 1"
   ]
  },
  {
   "cell_type": "code",
   "execution_count": 59,
   "id": "34e37710",
   "metadata": {},
   "outputs": [
    {
     "data": {
      "text/plain": [
       "1    1920\n",
       "2     200\n",
       "3     300\n",
       "4     400\n",
       "5     500\n",
       "Name: My Series, dtype: int64"
      ]
     },
     "execution_count": 59,
     "metadata": {},
     "output_type": "execute_result"
    }
   ],
   "source": [
    "my_series[1] = 1920\n",
    "my_series"
   ]
  },
  {
   "cell_type": "markdown",
   "id": "486c918a",
   "metadata": {},
   "source": [
    "Task 15: write the output of this logic -2:-4:-1"
   ]
  },
  {
   "cell_type": "code",
   "execution_count": 60,
   "id": "d3094ef7",
   "metadata": {},
   "outputs": [
    {
     "data": {
      "text/plain": [
       "4    400\n",
       "3    300\n",
       "Name: My Series, dtype: int64"
      ]
     },
     "execution_count": 60,
     "metadata": {},
     "output_type": "execute_result"
    }
   ],
   "source": [
    "my_series[-2:-4:-1]\n",
    "#slicing backwards from second last index with 1 step till -2"
   ]
  },
  {
   "cell_type": "markdown",
   "id": "d2ce71a5",
   "metadata": {},
   "source": [
    "<div style=\"text-align: center; margin: 20px 0; font-size: 24px;\">\n",
    "    <strong>Good luck!</strong>\n",
    "</div>\n"
   ]
  }
 ],
 "metadata": {
  "kernelspec": {
   "display_name": "Python 3 (ipykernel)",
   "language": "python",
   "name": "python3"
  },
  "language_info": {
   "codemirror_mode": {
    "name": "ipython",
    "version": 3
   },
   "file_extension": ".py",
   "mimetype": "text/x-python",
   "name": "python",
   "nbconvert_exporter": "python",
   "pygments_lexer": "ipython3",
   "version": "3.11.4"
  }
 },
 "nbformat": 4,
 "nbformat_minor": 5
}
